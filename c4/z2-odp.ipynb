{
 "cells": [
  {
   "cell_type": "markdown",
   "metadata": {},
   "source": [
    "Napisz program, który poprosi użytkownika o wprowadzenie liczby całkowitej. Oblicz i wyświetl sumę cyfr tej liczby, używając pętli `while`."
   ]
  },
  {
   "cell_type": "code",
   "execution_count": 2,
   "metadata": {},
   "outputs": [
    {
     "name": "stdout",
     "output_type": "stream",
     "text": [
      "Suma cyfr podanej liczby wynosi: 1\n"
     ]
    }
   ],
   "source": [
    "liczba = int(input(\"Podaj liczbę całkowitą: \"))\n",
    "suma_cyfr = 0\n",
    "\n",
    "# Wykorzystanie pętli while do obliczenia sumy cyfr\n",
    "while liczba > 0:\n",
    "    cyfra = liczba % 10\n",
    "    suma_cyfr += cyfra\n",
    "    liczba = liczba // 10\n",
    "\n",
    "print(f\"Suma cyfr podanej liczby wynosi: {suma_cyfr}\")"
   ]
  },
  {
   "cell_type": "markdown",
   "metadata": {},
   "source": [
    "**Zadane2:**\n",
    "\n",
    "Poproś użytkownika o podawanie liczb całkowitych. Dodawaj podane liczby, dopóki użytkownik nie wpisze liczby ujemnej. Gdy to zrobi, wyświetl sumę wszystkich liczb dodatnich."
   ]
  },
  {
   "cell_type": "code",
   "execution_count": 2,
   "metadata": {},
   "outputs": [
    {
     "name": "stdout",
     "output_type": "stream",
     "text": [
      "Suma wszystkich liczb dodatnich wynosi: 7\n"
     ]
    }
   ],
   "source": [
    "suma = 0\n",
    "while True:\n",
    "    liczba = int(input(\"Podaj liczbę (liczba ujemna kończy): \"))\n",
    "    if liczba < 0:\n",
    "        break\n",
    "    suma += liczba\n",
    "\n",
    "print(f\"Suma wszystkich liczb dodatnich wynosi: {suma}\")"
   ]
  },
  {
   "cell_type": "markdown",
   "metadata": {},
   "source": [
    "**Zgadnij liczbę**\n",
    "   - Napisz program, który losowo generuje liczbę z zakresu od 1 do 100. Następnie poproś użytkownika o zgadywanie liczby, dopóki użytkownik nie trafi. Program powinien informować użytkownika, czy jego liczba jest za mała, za duża, czy trafiona."
   ]
  },
  {
   "cell_type": "markdown",
   "metadata": {},
   "source": [
    "**Logowanie do systemu**\n",
    "   - Stwórz prosty system logowania, który będzie prosił użytkownika o wpisanie poprawnego hasła (\"sekret123\"). Użytkownik ma trzy próby na podanie prawidłowego hasła. Jeśli po trzech próbach nie wpisze poprawnego hasła, wyświetl komunikat \"Odmowa dostępu\"."
   ]
  },
  {
   "cell_type": "markdown",
   "metadata": {},
   "source": [
    "**Licznik od 1 do 10**\n",
    "   - Napisz program, który wyświetla liczby od 1 do 10 przy użyciu pętli `while`."
   ]
  },
  {
   "cell_type": "markdown",
   "metadata": {},
   "source": [
    "**Liczby Armstronga w zakresie**\n",
    "   - Poproś użytkownika o podanie liczby końcowej `n`, a następnie znajdź i wyświetl wszystkie liczby Armstronga w zakresie od 1 do `n`, używając pętli `while`."
   ]
  },
  {
   "cell_type": "markdown",
   "metadata": {},
   "source": [
    "**Odliczanie do zera**\n",
    "   - Poproś użytkownika o podanie liczby całkowitej dodatniej. Następnie odliczaj od tej liczby do zera, wyświetlając kolejne liczby, używając pętli `while`."
   ]
  },
  {
   "cell_type": "markdown",
   "metadata": {},
   "source": [
    "**Zgadnij hasło**\n",
    "   - Stwórz program, w którym użytkownik ma odgadnąć hasło (\"PythonRocks\"). Pętla `while` powinna działać, dopóki użytkownik nie wprowadzi prawidłowego hasła. Po każdej nieudanej próbie wyświetl komunikat \"Błędne hasło, spróbuj ponownie\"."
   ]
  },
  {
   "cell_type": "markdown",
   "metadata": {},
   "source": [
    "**Lista zakupów**\n",
    "   - Napisz program, który poprosi użytkownika o wprowadzenie przedmiotów na listę zakupów. Program powinien działać w pętli `while` i kończyć się po wpisaniu przez użytkownika słowa \"koniec\". Na końcu wyświetl pełną listę zakupów."
   ]
  },
  {
   "cell_type": "markdown",
   "metadata": {},
   "source": [
    "**Obliczanie silni liczby**\n",
    "    - Poproś użytkownika o podanie liczby całkowitej dodatniej i oblicz silnię tej liczby (`n!`). Wykorzystaj pętlę `while` do wykonania tego zadania."
   ]
  }
 ],
 "metadata": {
  "kernelspec": {
   "display_name": "pw-ptyhon-env",
   "language": "python",
   "name": "python3"
  },
  "language_info": {
   "codemirror_mode": {
    "name": "ipython",
    "version": 3
   },
   "file_extension": ".py",
   "mimetype": "text/x-python",
   "name": "python",
   "nbconvert_exporter": "python",
   "pygments_lexer": "ipython3",
   "version": "3.12.3"
  }
 },
 "nbformat": 4,
 "nbformat_minor": 2
}
