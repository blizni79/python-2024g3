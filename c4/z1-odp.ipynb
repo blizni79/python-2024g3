{
 "cells": [
  {
   "cell_type": "markdown",
   "metadata": {},
   "source": [
    "Zadanie 1:\n",
    "\n",
    "Napisz program, który wyświetli liczby od 1 do 50. Dla liczb podzielnych przez 3 zamiast liczby wyświetl \"Fizz\", dla liczb podzielnych przez 5 wyświetl \"Buzz\", a dla liczb podzielnych jednocześnie przez 3 i 5 wyświetl \"FizzBuzz\"."
   ]
  },
  {
   "cell_type": "code",
   "execution_count": 3,
   "metadata": {},
   "outputs": [
    {
     "name": "stdout",
     "output_type": "stream",
     "text": [
      "1\n",
      "2\n",
      "Fizz\n",
      "4\n",
      "Buzz\n",
      "Fizz\n",
      "7\n",
      "8\n",
      "Fizz\n",
      "Buzz\n",
      "11\n",
      "Fizz\n",
      "13\n",
      "14\n",
      "Fizz\n",
      "16\n",
      "17\n",
      "Fizz\n",
      "19\n",
      "Buzz\n",
      "Fizz\n",
      "22\n",
      "23\n",
      "Fizz\n",
      "Buzz\n",
      "26\n",
      "Fizz\n",
      "28\n",
      "29\n",
      "Fizz\n",
      "31\n",
      "32\n",
      "Fizz\n",
      "34\n",
      "Buzz\n",
      "Fizz\n",
      "37\n",
      "38\n",
      "Fizz\n",
      "Buzz\n",
      "41\n",
      "Fizz\n",
      "43\n",
      "44\n",
      "Fizz\n",
      "46\n",
      "47\n",
      "Fizz\n",
      "49\n",
      "Buzz\n"
     ]
    }
   ],
   "source": [
    "for number in range(1, 51):\n",
    "    if number % 3 == 0:\n",
    "        print(\"Fizz\")\n",
    "    elif number % 5 == 0:\n",
    "        print(\"Buzz\")\n",
    "    elif number % 3 == 0 and number % 5 == 0:\n",
    "        print(\"FizzBuzz\")\n",
    "    else:\n",
    "        print(number)"
   ]
  },
  {
   "cell_type": "markdown",
   "metadata": {},
   "source": [
    "Zadanie 2:\n",
    "\n",
    "Napisz program, który dla liczby n podanej przez użytkownika (n ≥ 1) wygeneruje tabliczkę mnożenia o rozmiarze n x n."
   ]
  },
  {
   "cell_type": "code",
   "execution_count": 4,
   "metadata": {},
   "outputs": [
    {
     "name": "stdout",
     "output_type": "stream",
     "text": [
      "   1    2    3    4    5    6    7    8    9 \n",
      "   2    4    6    8   10   12   14   16   18 \n",
      "   3    6    9   12   15   18   21   24   27 \n",
      "   4    8   12   16   20   24   28   32   36 \n",
      "   5   10   15   20   25   30   35   40   45 \n",
      "   6   12   18   24   30   36   42   48   54 \n",
      "   7   14   21   28   35   42   49   56   63 \n",
      "   8   16   24   32   40   48   56   64   72 \n",
      "   9   18   27   36   45   54   63   72   81 \n"
     ]
    }
   ],
   "source": [
    "# Pobranie liczby od użytkownika i zapewnienie, że n >= 1\n",
    "n = int(input(\"Podaj liczbę n (n ≥ 1): \"))\n",
    "if n < 1:\n",
    "    print(\"Liczba n musi być większa lub równa 1.\")\n",
    "else:\n",
    "    # Generowanie tabliczki mnożenia\n",
    "    for i in range(1, n + 1):\n",
    "        for j in range(1, n + 1):\n",
    "            print(f\"{i * j:4}\", end=\" \")\n",
    "        print()  # Przejście do nowej linii po każdym wierszu\n"
   ]
  },
  {
   "cell_type": "markdown",
   "metadata": {},
   "source": [
    "Zadanie 3:\n",
    "\n",
    "Poproś użytkownika o wprowadzenie listy liczb całkowitych dodatnich oddzielonych spacjami. Następnie wyświetl wykres słupkowy z gwiazdek reprezentujący te liczby."
   ]
  },
  {
   "cell_type": "code",
   "execution_count": 5,
   "metadata": {},
   "outputs": [
    {
     "name": "stdout",
     "output_type": "stream",
     "text": [
      "5: *****\n",
      "7: *******\n",
      "15: ***************\n"
     ]
    }
   ],
   "source": [
    "# Pobieranie liczb dodatnich od użytkownika\n",
    "numbers = input(\"Wprowadź dodatnie liczby całkowite oddzielone spacjami: \")\n",
    "numbers_list = []\n",
    "\n",
    "# Przetwarzanie każdej liczby z osobna\n",
    "for num in numbers.split():\n",
    "    num = int(num)\n",
    "    if num > 0:\n",
    "        numbers_list.append(num)\n",
    "\n",
    "for num in numbers_list:\n",
    "    print(f\"{num}: {'*' * num}\")\n"
   ]
  },
  {
   "cell_type": "code",
   "execution_count": 6,
   "metadata": {},
   "outputs": [
    {
     "name": "stdout",
     "output_type": "stream",
     "text": [
      "\n",
      "Wykres słupkowy:\n",
      "5: *****\n",
      "7: *******\n",
      "8: ********\n"
     ]
    }
   ],
   "source": [
    "# Poproś użytkownika o wprowadzenie listy liczb całkowitych\n",
    "numbers = input(\"Wprowadź dodatnie liczby całkowite oddzielone spacjami: \")\n",
    "\n",
    "# Konwertuj dane wejściowe na listę liczb całkowitych\n",
    "numbers = [int(num) for num in numbers.split() if int(num) > 0]\n",
    "\n",
    "# Wyświetl wykres słupkowy\n",
    "print(\"\\nWykres słupkowy:\")\n",
    "for num in numbers:\n",
    "    print(f\"{num}: {'*' * num}\")\n"
   ]
  },
  {
   "cell_type": "markdown",
   "metadata": {},
   "source": []
  },
  {
   "cell_type": "markdown",
   "metadata": {},
   "source": [
    "Zadanie 4: \n",
    "Napisz program, który znajdzie i wyświetli wszystkie liczby Armstronga w zakresie od 100 do 999."
   ]
  },
  {
   "cell_type": "code",
   "execution_count": 7,
   "metadata": {},
   "outputs": [
    {
     "name": "stdout",
     "output_type": "stream",
     "text": [
      "Liczby Armstronga w zakresie od 100 do 999:\n",
      "153\n",
      "370\n",
      "371\n",
      "407\n"
     ]
    }
   ],
   "source": [
    "print(\"Liczby Armstronga w zakresie od 100 do 999:\")\n",
    "\n",
    "for number in range(100, 1000):\n",
    "    # Pobieranie setek, dziesiątek i jedności liczby\n",
    "    hundreds = number // 100\n",
    "    tens = (number // 10) % 10\n",
    "    units = number % 10\n",
    "\n",
    "    # Sprawdzenie, czy liczba jest liczbą Armstronga\n",
    "    if (hundreds ** 3 + tens ** 3 + units ** 3) == number:\n",
    "        print(number)\n"
   ]
  }
 ],
 "metadata": {
  "kernelspec": {
   "display_name": "pw-ptyhon-env",
   "language": "python",
   "name": "python3"
  },
  "language_info": {
   "codemirror_mode": {
    "name": "ipython",
    "version": 3
   },
   "file_extension": ".py",
   "mimetype": "text/x-python",
   "name": "python",
   "nbconvert_exporter": "python",
   "pygments_lexer": "ipython3",
   "version": "3.12.3"
  }
 },
 "nbformat": 4,
 "nbformat_minor": 2
}
